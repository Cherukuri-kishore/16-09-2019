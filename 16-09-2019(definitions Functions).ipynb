{
 "cells": [
  {
   "cell_type": "markdown",
   "metadata": {},
   "source": [
    "# Definiton Functions\n",
    " - It is denoted with a keyword ' def '\n",
    "### there are four types of user defined functions\n",
    " -with return type and with aurguments\n",
    " -with return type and with-out aurguments\n",
    " -with-out return type and with aurguments\n",
    " -with-out return type and with-out aurguments"
   ]
  },
  {
   "cell_type": "markdown",
   "metadata": {},
   "source": [
    "# prime number\n",
    "function to define number is prime or not"
   ]
  },
  {
   "cell_type": "code",
   "execution_count": 3,
   "metadata": {},
   "outputs": [
    {
     "name": "stdout",
     "output_type": "stream",
     "text": [
      "enter a number :  3\n"
     ]
    },
    {
     "data": {
      "text/plain": [
       "True"
      ]
     },
     "execution_count": 3,
     "metadata": {},
     "output_type": "execute_result"
    }
   ],
   "source": [
    "def prime(n):\n",
    "    count = 0\n",
    "    for i in range (1,n+1):\n",
    "        if n%i==0:\n",
    "            count+=1\n",
    "    if count==2:\n",
    "        return True\n",
    "    else:\n",
    "        return False\n",
    "n=int(input('enter a number :  '))\n",
    "prime(n)"
   ]
  },
  {
   "cell_type": "markdown",
   "metadata": {},
   "source": [
    "## prime range"
   ]
  },
  {
   "cell_type": "code",
   "execution_count": 9,
   "metadata": {},
   "outputs": [
    {
     "name": "stdout",
     "output_type": "stream",
     "text": [
      "enter first number  2\n",
      "enter first number  23\n",
      "2 3 5 7 11 13 17 19 23 "
     ]
    }
   ],
   "source": [
    "def primerange(start,end):\n",
    "    for i in range(start,end+1):\n",
    "        if prime(i) == True:\n",
    "            print(i ,end=' ')\n",
    "start=int(input('enter first number\n",
    "                '))\n",
    "end=int(input('enter first number  '))\n",
    "primerange(start,end)"
   ]
  },
  {
   "cell_type": "markdown",
   "metadata": {},
   "source": [
    "# task 1\n",
    "## print all numbers divisible by 6 and not a factor of 100 in given range"
   ]
  },
  {
   "cell_type": "code",
   "execution_count": 44,
   "metadata": {},
   "outputs": [
    {
     "data": {
      "text/plain": [
       "True"
      ]
     },
     "execution_count": 44,
     "metadata": {},
     "output_type": "execute_result"
    }
   ],
   "source": [
    "def factorof100(i):\n",
    "    if 100%i==0:\n",
    "        return True\n",
    "    return False\n",
    "factorof100(20)"
   ]
  },
  {
   "cell_type": "code",
   "execution_count": 45,
   "metadata": {},
   "outputs": [
    {
     "name": "stdout",
     "output_type": "stream",
     "text": [
      "enter a lower bound number  1\n",
      "enter a upper bound number  100\n",
      "6 12 18 24 30 36 42 48 54 60 66 72 78 84 90 96 "
     ]
    }
   ],
   "source": [
    "def divisible(lb,ub):\n",
    "    for i in range (lb,ub+1):\n",
    "        if factorof100(i) == False:\n",
    "            if i%6==0:\n",
    "                print(i,end=' ')\n",
    "lb=int(input('enter a lower bound number  '))\n",
    "ub=int(input('enter a upper bound number  '))\n",
    "if ub > lb :\n",
    "    divisible(lb,ub)"
   ]
  },
  {
   "cell_type": "markdown",
   "metadata": {},
   "source": [
    "# task 2\n",
    "### find average of cubes of all even numbers in range"
   ]
  },
  {
   "cell_type": "code",
   "execution_count": 30,
   "metadata": {},
   "outputs": [
    {
     "name": "stdout",
     "output_type": "stream",
     "text": [
      "enter lower bound  1\n",
      "enter upper bound  10\n",
      "average of cubes is:  180\n"
     ]
    }
   ],
   "source": [
    "def even(i):\n",
    "    if i%2==0:\n",
    "        return True\n",
    "lb=int(input(\"enter lower bound  \"))\n",
    "ub=int(input('enter upper bound  '))\n",
    "sum=0\n",
    "for i in range (lb,ub+1):\n",
    "    if even(i) ==True:\n",
    "        sum=sum+i**3\n",
    "avg=sum//(ub-lb+1)\n",
    "print('average of cubes is: ',avg)"
   ]
  },
  {
   "cell_type": "markdown",
   "metadata": {},
   "source": [
    "# task 3\n",
    "## generate list of factors of given numbers"
   ]
  },
  {
   "cell_type": "code",
   "execution_count": 36,
   "metadata": {},
   "outputs": [
    {
     "name": "stdout",
     "output_type": "stream",
     "text": [
      "enter a number : 10\n",
      "1 2 5 10 "
     ]
    }
   ],
   "source": [
    "def factor(n):\n",
    "    for i in range(1,n+1):\n",
    "        if n%i==0:\n",
    "            print(i,end=' ')\n",
    "n=int(input('enter a number : '))\n",
    "factor(n)"
   ]
  },
  {
   "cell_type": "markdown",
   "metadata": {},
   "source": [
    "# task 3\n",
    "## factorial of given number"
   ]
  },
  {
   "cell_type": "code",
   "execution_count": 40,
   "metadata": {},
   "outputs": [
    {
     "name": "stdout",
     "output_type": "stream",
     "text": [
      "enter a number : 5\n",
      "120 "
     ]
    }
   ],
   "source": [
    "def factorial(n):\n",
    "    fact = 1\n",
    "    for i in range (1,n+1):\n",
    "        fact=fact*i\n",
    "    return fact\n",
    "n=int(input('enter a number : '))\n",
    "print(factorial(n),end=' ')"
   ]
  },
  {
   "cell_type": "markdown",
   "metadata": {},
   "source": [
    "# task 4\n",
    "## check the given is prime or not"
   ]
  },
  {
   "cell_type": "code",
   "execution_count": 42,
   "metadata": {},
   "outputs": [
    {
     "name": "stdout",
     "output_type": "stream",
     "text": [
      "enter a number :  5\n",
      "is prime\n"
     ]
    }
   ],
   "source": [
    "def prime(n):\n",
    "    count = 0\n",
    "    for i in range (1,n+1):\n",
    "        if n%i==0:\n",
    "            count+=1\n",
    "    if count==2:\n",
    "        print('is prime')\n",
    "    else:\n",
    "        print('not prime')\n",
    "n=int(input('enter a number :  '))\n",
    "prime(n)"
   ]
  },
  {
   "cell_type": "markdown",
   "metadata": {},
   "source": [
    "# task 5\n",
    "## calculate avg of first n prime numbers"
   ]
  },
  {
   "cell_type": "code",
   "execution_count": 1,
   "metadata": {},
   "outputs": [],
   "source": [
    "def prime(n):\n",
    "    count = 0\n",
    "    for i in range (1,n+1):\n",
    "        if n%i==0:\n",
    "            count+=1\n",
    "    if count==2:\n",
    "        return True\n",
    "    else:\n",
    "        return False"
   ]
  },
  {
   "cell_type": "code",
   "execution_count": 2,
   "metadata": {},
   "outputs": [
    {
     "name": "stdout",
     "output_type": "stream",
     "text": [
      "enter a number   10\n",
      "average = 4.25\n"
     ]
    }
   ],
   "source": [
    "def primerange(n):\n",
    "    sum=0\n",
    "    count=0\n",
    "    for i in range(n):\n",
    "        if prime(i) == True:\n",
    "            sum=sum+i\n",
    "            count+=1\n",
    "    avg=0\n",
    "    avg=sum/count\n",
    "    print(\"average =\",avg)\n",
    "n=int(input('enter a number   '))\n",
    "primerange(n)"
   ]
  },
  {
   "cell_type": "markdown",
   "metadata": {},
   "source": [
    "# task 6\n",
    "## generate all perfect numbers in range"
   ]
  },
  {
   "cell_type": "code",
   "execution_count": 4,
   "metadata": {},
   "outputs": [
    {
     "name": "stdout",
     "output_type": "stream",
     "text": [
      "enter upper bound number : 1\n",
      "enter a upper bound number : 200\n",
      "6 28 "
     ]
    }
   ],
   "source": [
    "def perfect(n):\n",
    "    sum=0\n",
    "    for i in range(1,n):\n",
    "        if n%i==0:\n",
    "            sum=sum+i\n",
    "    if sum==n:\n",
    "        return True\n",
    "            \n",
    "lb=int (input('enter upper bound number : '))\n",
    "ub=int(input('enter a upper bound number : '))\n",
    "for i in range(lb,ub+1):\n",
    "    if perfect(i)== True:\n",
    "        print(i,end=\" \")"
   ]
  },
  {
   "cell_type": "code",
   "execution_count": null,
   "metadata": {},
   "outputs": [],
   "source": []
  }
 ],
 "metadata": {
  "kernelspec": {
   "display_name": "Python 3",
   "language": "python",
   "name": "python3"
  },
  "language_info": {
   "codemirror_mode": {
    "name": "ipython",
    "version": 3
   },
   "file_extension": ".py",
   "mimetype": "text/x-python",
   "name": "python",
   "nbconvert_exporter": "python",
   "pygments_lexer": "ipython3",
   "version": "3.7.3"
  }
 },
 "nbformat": 4,
 "nbformat_minor": 2
}
